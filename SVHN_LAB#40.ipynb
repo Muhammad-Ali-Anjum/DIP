{
 "cells": [
  {
   "cell_type": "code",
   "execution_count": 29,
   "id": "547e3785-25b1-4775-87ef-cc3062a56e98",
   "metadata": {},
   "outputs": [],
   "source": [
    "import warnings"
   ]
  },
  {
   "cell_type": "markdown",
   "id": "a4bcdc4e-4fb9-438a-9953-168cb8e0e52d",
   "metadata": {},
   "source": [
    "import warnings is used in Python to bring in the warnings module, which lets you control warning messages. This module is helpful for managing non-critical issues without stopping the program."
   ]
  },
  {
   "cell_type": "code",
   "execution_count": 30,
   "id": "0250bb54-22d6-4594-8c35-a835e7cacf6d",
   "metadata": {},
   "outputs": [],
   "source": [
    "import os"
   ]
  },
  {
   "cell_type": "markdown",
   "id": "46e8b64a-b7e3-4f3d-9321-e50cd3c9cc78",
   "metadata": {},
   "source": [
    "import os imports the os module, allowing interaction with the operating system, like managing files, directories, and environment variables."
   ]
  },
  {
   "cell_type": "code",
   "execution_count": 31,
   "id": "26d1dd7e-b9c1-4acb-86c7-25076ccc0526",
   "metadata": {},
   "outputs": [],
   "source": [
    "import pandas as pd"
   ]
  },
  {
   "cell_type": "markdown",
   "id": "201e462c-0548-4e0e-92fa-01bcad7429f2",
   "metadata": {},
   "source": [
    "Allows you to use the Pandas library for data manipulation and analysis"
   ]
  },
  {
   "cell_type": "code",
   "execution_count": 32,
   "id": "76eb950c-e552-4810-9345-d293d5bbf90c",
   "metadata": {},
   "outputs": [],
   "source": [
    "import numpy as np"
   ]
  },
  {
   "cell_type": "markdown",
   "id": "f0944f16-15dd-4f4f-a234-c752fd98ffa6",
   "metadata": {},
   "source": [
    "Allows you to use the NumPy library for numerical operations and array manipulation.\n",
    " Simplifies the use of the library by letting you refer to it as np instead of numpy"
   ]
  },
  {
   "cell_type": "code",
   "execution_count": 33,
   "id": "9719979f-1d6d-4019-869d-dd7b4d329906",
   "metadata": {},
   "outputs": [],
   "source": [
    "import matplotlib.pyplot as plt\n",
    "%matplotlib inline"
   ]
  },
  {
   "cell_type": "markdown",
   "id": "f90c9214-b625-4a71-8d33-22daaaa8c9ce",
   "metadata": {},
   "source": [
    "import matplotlib.pyplot as plt:\n",
    "Imports the pyplot module from matplotlib and aliases it as plt. This makes it easier to create plots and visualizations in Python.\n",
    "\n",
    "%matplotlib inline: \n",
    "A Jupyter Notebook command that displays matplotlib plots directly in the notebook cells, making it convenient to see plots immediately after running the code."
   ]
  },
  {
   "cell_type": "code",
   "execution_count": 5,
   "id": "2682f68c-2e25-4b29-952d-4d9212f11e64",
   "metadata": {},
   "outputs": [],
   "source": [
    "import tensorflow"
   ]
  },
  {
   "cell_type": "markdown",
   "id": "179e040e-8322-481c-a487-d635b15b55e4",
   "metadata": {},
   "source": [
    "import tensorflow \n",
    "imports the TensorFlow library, which is widely used for machine learning and deep learning tasks. TensorFlow provides tools for building and training neural networks, such as:\n",
    "\n",
    "Building computational models like neural networks.\n",
    "Running operations on GPUs or TPUs for faster computation.\n",
    "Using pre-built models and utilities for tasks like image classification, natural language processing, and more."
   ]
  },
  {
   "cell_type": "code",
   "execution_count": 6,
   "id": "ef962029-22ea-43a8-86bd-51847dad83cb",
   "metadata": {},
   "outputs": [
    {
     "name": "stdout",
     "output_type": "stream",
     "text": [
      "2.18.0\n"
     ]
    }
   ],
   "source": [
    "print(tensorflow.__version__)"
   ]
  },
  {
   "cell_type": "code",
   "execution_count": 34,
   "id": "cbc10f0d-88e3-48df-bb11-e93449a8007e",
   "metadata": {},
   "outputs": [],
   "source": [
    "import seaborn as sns"
   ]
  },
  {
   "cell_type": "markdown",
   "id": "700bb4a5-2a08-4864-8cbd-8045bcded85f",
   "metadata": {},
   "source": [
    "import seaborn\n",
    "Seaborn is a data visualization library built on top of Matplotlib, providing a high-level interface for creating visually appealing and informative statistical graphics"
   ]
  },
  {
   "cell_type": "code",
   "execution_count": 7,
   "id": "260234b3-54be-4450-b444-6d93c9e35d9f",
   "metadata": {},
   "outputs": [],
   "source": [
    "warnings.filterwarnings('ignore')"
   ]
  },
  {
   "cell_type": "markdown",
   "id": "94674217-ff7b-46f8-8efe-ecae2244b077",
   "metadata": {},
   "source": [
    "warnings.filterwarnings('ignore') tells Python to ignore all warning messages."
   ]
  },
  {
   "cell_type": "code",
   "execution_count": 8,
   "id": "dc5e58af-a7a6-459a-a5c8-86f6b17c5ab3",
   "metadata": {},
   "outputs": [],
   "source": [
    "pd.options.display.max_columns=None"
   ]
  },
  {
   "cell_type": "markdown",
   "id": "1247b14c-1d75-43e1-8020-abf39f3fdaef",
   "metadata": {},
   "source": [
    "pd.options.display.max_columns = None is used to set the display option in pandas so that all columns of a DataFrame"
   ]
  },
  {
   "cell_type": "code",
   "execution_count": 9,
   "id": "6e80b6b2-6996-470b-b2c9-e776dfafd0b4",
   "metadata": {},
   "outputs": [],
   "source": [
    "pd.options.display.float_format='{:.7f}'.format"
   ]
  },
  {
   "cell_type": "markdown",
   "id": "b0b2436b-6228-471e-8411-090fb7fadd50",
   "metadata": {},
   "source": [
    "pd.options.display.float_format = '{:.7f}'.\n",
    "format sets the display format for floating-point numbers in pandas to show up to 7 decimal places."
   ]
  },
  {
   "cell_type": "code",
   "execution_count": 10,
   "id": "45603234-e852-48f0-9f83-fafbd79e3cd3",
   "metadata": {},
   "outputs": [],
   "source": [
    "pd.options.display.max_rows=None"
   ]
  },
  {
   "cell_type": "markdown",
   "id": "2c73be06-ba12-4922-bada-88ace477bf8c",
   "metadata": {},
   "source": [
    "pd.options.display.max_rows = None sets the pandas option to display all rows of a DataFrame when printed"
   ]
  },
  {
   "cell_type": "code",
   "execution_count": 11,
   "id": "ce4cdd3e-37ab-4987-89e1-dabbccd62905",
   "metadata": {},
   "outputs": [],
   "source": [
    "import h5py"
   ]
  },
  {
   "cell_type": "markdown",
   "id": "5b45536f-2123-42eb-a537-821bea6cacee",
   "metadata": {},
   "source": [
    "import h5py imports the h5py library,\n",
    "which is used for reading and writing HDF5 (Hierarchical Data Format version 5) files in Python."
   ]
  },
  {
   "cell_type": "code",
   "execution_count": 13,
   "id": "83965539-7660-42ba-8f15-fd794f220ee9",
   "metadata": {},
   "outputs": [],
   "source": [
    "h5f=h5py.File(r\"C:\\Users\\Anjum\\OneDrive\\Desktop\\new dip\\Autonomous_Vehicles_SVHN_single_grey1.h5\")"
   ]
  },
  {
   "cell_type": "code",
   "execution_count": null,
   "id": "00520a0d-3755-4d90-add5-4ecdb39c5eca",
   "metadata": {},
   "outputs": [],
   "source": []
  },
  {
   "cell_type": "code",
   "execution_count": 14,
   "id": "4edbbd55-59bc-40f9-be6a-baa6658c1287",
   "metadata": {},
   "outputs": [
    {
     "data": {
      "text/plain": [
       "<KeysViewHDF5 ['X_test', 'X_train', 'X_val', 'y_test', 'y_train', 'y_val']>"
      ]
     },
     "execution_count": 14,
     "metadata": {},
     "output_type": "execute_result"
    }
   ],
   "source": [
    "h5f.keys()"
   ]
  },
  {
   "cell_type": "markdown",
   "id": "4d0834c7-4b4e-4c8e-a9c3-a9eccd1026c6",
   "metadata": {},
   "source": [
    "h5f.keys() is used to retrieve the names of all the top-level groups or datasets in an open HDF5 file referenced by the variable h5f"
   ]
  },
  {
   "cell_type": "code",
   "execution_count": 15,
   "id": "8773929c-614f-460e-8039-44c65a06904b",
   "metadata": {},
   "outputs": [],
   "source": [
    "#Split the data into X_train,X_test,y_train,y_test\n",
    "#load the training, test and validation set"
   ]
  },
  {
   "cell_type": "code",
   "execution_count": 16,
   "id": "d1dc1374-e632-4ca9-ac4a-cf3aead4220e",
   "metadata": {},
   "outputs": [],
   "source": [
    "X_train=h5f['X_train'][:]\n",
    "y_train=h5f['y_train'][:]\n",
    "X_test=h5f['X_test'][:]\n",
    "y_test=h5f['y_test'][:]"
   ]
  },
  {
   "cell_type": "code",
   "execution_count": 17,
   "id": "d5b29dd4-bfbe-4aeb-b1a0-4bd202e1878a",
   "metadata": {},
   "outputs": [],
   "source": [
    "#print shape of all the 4 data split into x,y,train,test to verify if x"
   ]
  },
  {
   "cell_type": "markdown",
   "id": "2758e1dd-b28c-4032-908a-de1ec97a98b1",
   "metadata": {},
   "source": [
    "ead training and testing data from the HDF5 file, storing the features in X_train and X_test, and the corresponding labels in y_train and y_test. This is commonly used in machine learning for training and evaluating models."
   ]
  },
  {
   "cell_type": "code",
   "execution_count": 20,
   "id": "4daf2a64-6138-448b-ad60-314981aebfb7",
   "metadata": {},
   "outputs": [
    {
     "data": {
      "text/plain": [
       "(42000, 32, 32)"
      ]
     },
     "execution_count": 20,
     "metadata": {},
     "output_type": "execute_result"
    }
   ],
   "source": [
    "X_train.shape"
   ]
  },
  {
   "cell_type": "markdown",
   "id": "3055527f-0d74-4ac4-97c0-4c9a12ef27d8",
   "metadata": {},
   "source": [
    " X_train.shape, which is (42000, 32, 32), indicates the following about the X_train array:\n",
    "\n",
    "42000: This is the number of samples or images in the dataset.\n",
    "32: This represents the height of each image in pixels.\n",
    "32: This represents the width of each image in pixels."
   ]
  },
  {
   "cell_type": "code",
   "execution_count": 21,
   "id": "b6979e0c-3bd7-48f4-a964-a086ef732f49",
   "metadata": {},
   "outputs": [
    {
     "data": {
      "text/plain": [
       "(18000, 32, 32)"
      ]
     },
     "execution_count": 21,
     "metadata": {},
     "output_type": "execute_result"
    }
   ],
   "source": [
    "X_test.shape"
   ]
  },
  {
   "cell_type": "markdown",
   "id": "8cc4b09b-c794-4c4d-a125-85087a6e2aa4",
   "metadata": {},
   "source": [
    "X_test.shape indicates the following about the X_test array:\n",
    "\n",
    "18000: This is the number of images in the test dataset.\n",
    "32: This represents the height of each image in pixels.\n",
    "32: This represents the width of each image in pixels."
   ]
  },
  {
   "cell_type": "code",
   "execution_count": 22,
   "id": "ed286ef4-047d-4078-98da-c210e7419b3a",
   "metadata": {},
   "outputs": [
    {
     "data": {
      "text/plain": [
       "(42000,)"
      ]
     },
     "execution_count": 22,
     "metadata": {},
     "output_type": "execute_result"
    }
   ],
   "source": [
    "y_train.shape"
   ]
  },
  {
   "cell_type": "code",
   "execution_count": null,
   "id": "7bdec6a0-e4d7-4a08-b3ed-5441949d019a",
   "metadata": {},
   "outputs": [],
   "source": []
  },
  {
   "cell_type": "code",
   "execution_count": 23,
   "id": "660d7e40-c5a9-4ace-b1f0-4b96ecc01d01",
   "metadata": {},
   "outputs": [
    {
     "data": {
      "text/plain": [
       "(18000,)"
      ]
     },
     "execution_count": 23,
     "metadata": {},
     "output_type": "execute_result"
    }
   ],
   "source": [
    "y_test.shape"
   ]
  },
  {
   "cell_type": "code",
   "execution_count": null,
   "id": "0872ff0e-b960-43bc-9f5a-e24d14b5d23b",
   "metadata": {},
   "outputs": [],
   "source": []
  },
  {
   "cell_type": "code",
   "execution_count": 24,
   "id": "edcafce3-3d9a-4a6b-8548-e461bbaef0f1",
   "metadata": {},
   "outputs": [],
   "source": [
    "#Visualiza the first 10 images in train data and print its corresponding"
   ]
  },
  {
   "cell_type": "code",
   "execution_count": 36,
   "id": "2b50a7dd-2f3b-4f2f-8940-8ad2ba0f2eff",
   "metadata": {},
   "outputs": [],
   "source": [
    "def img_lab(n):\n",
    "    plt.figure(figsize=(n,1))\n",
    "    for i in range(n):\n",
    "        plt.subplot(1,n,i+1)\n",
    "        plt.imshow(X_train[i],cmap='gray')\n",
    "        plt.axis('off')\n",
    "    plt.show()\n",
    "    print('label for each of the above image:%s'%(y_train[0:n]))      "
   ]
  },
  {
   "cell_type": "markdown",
   "id": "883be722-c08e-4c56-9ee3-b7b587dd0473",
   "metadata": {},
   "source": [
    "function visually presents n images from the training dataset and their corresponding labels. It is useful for quickly inspecting the data and understanding the distribution of labels."
   ]
  },
  {
   "cell_type": "markdown",
   "id": "cdc30343-3962-442d-8044-690478e0c726",
   "metadata": {},
   "source": [
    "img_lab(10)"
   ]
  },
  {
   "cell_type": "code",
   "execution_count": 37,
   "id": "7a17636e-a46b-4a9b-937a-af249afdac74",
   "metadata": {},
   "outputs": [
    {
     "data": {
      "text/plain": [
       "(42000, 32, 32)"
      ]
     },
     "execution_count": 37,
     "metadata": {},
     "output_type": "execute_result"
    }
   ],
   "source": [
    "X_train.shape\n"
   ]
  },
  {
   "cell_type": "markdown",
   "id": "e9a14a44-64c9-425d-96b6-7f0cd3aa9edb",
   "metadata": {},
   "source": [
    "X_train.shape indicates the dimensions of the X_train array. If you're looking for a specific value or context, please let me know!\n",
    "\n",
    "However, based on previous discussions, if X_train.shape returned (42000, 32, 32), it means:\n",
    "\n",
    "42000: The number of images in the training dataset.\n",
    "32: The height of each image in pixels.\n",
    "32: The width of each image in pixels."
   ]
  },
  {
   "cell_type": "code",
   "execution_count": 38,
   "id": "332264df-ab92-4fdc-b0b1-70eb26c693cd",
   "metadata": {},
   "outputs": [],
   "source": [
    "X_train=X_train.reshape(X_train.shape[0],1024,1)\n",
    "X_test=X_test.reshape(X_test.shape[0],1024,1)"
   ]
  },
  {
   "cell_type": "markdown",
   "id": "68cfdc04-6951-44c3-a3f2-3616e02281d7",
   "metadata": {},
   "source": [
    "After these operations, both X_train and X_test are transformed from their original shape of (num_samples, 32, 32) to (num_samples, 1024, 1), effectively flattening the images while adding an additional dimension. This format is often required for certain types of neural network architectures, especially when dealing with 1D convolutions or specific model inputs."
   ]
  },
  {
   "cell_type": "code",
   "execution_count": 39,
   "id": "51d2f05a-1501-4bc0-b660-17cd48d30c97",
   "metadata": {},
   "outputs": [],
   "source": [
    "X_train=X_train/255.0\n",
    "X_test=X_test/255.0"
   ]
  },
  {
   "cell_type": "markdown",
   "id": "474ac3ca-6167-49cc-a2b4-196f717ac7e3",
   "metadata": {},
   "source": [
    "These lines are normalizing the pixel values of the training and test image datasets (X_train and X_test). "
   ]
  },
  {
   "cell_type": "code",
   "execution_count": 40,
   "id": "d0729b08-1416-4dbc-bae4-6cf66cdf375b",
   "metadata": {},
   "outputs": [
    {
     "name": "stdout",
     "output_type": "stream",
     "text": [
      "Resized Training set (42000, 1024, 1) (42000,)\n",
      "Resized Test set (18000, 1024, 1) (18000,)\n"
     ]
    }
   ],
   "source": [
    "print('Resized Training set',X_train.shape,y_train.shape)\n",
    "print('Resized Test set',X_test.shape,y_test.shape)"
   ]
  },
  {
   "cell_type": "markdown",
   "id": "f9203ecd-5444-410c-bf5e-e1d66a053938",
   "metadata": {},
   "source": [
    "These print statements provide a quick confirmation of the data's dimensions after any preprocessing steps, ensuring that the training and test datasets are correctly shaped for model training and evaluation."
   ]
  },
  {
   "cell_type": "code",
   "execution_count": 41,
   "id": "7f9675e4-9c5a-4cf8-b066-ef5d0a026271",
   "metadata": {},
   "outputs": [
    {
     "name": "stdout",
     "output_type": "stream",
     "text": [
      "THe number of classes in this dataset are: 10\n"
     ]
    }
   ],
   "source": [
    "from tensorflow.keras.utils import to_categorical\n",
    "#one hot encode outputs\n",
    "y_train=to_categorical(y_train)\n",
    "y_test=to_categorical(y_test)\n",
    "#no. of classes\n",
    "num_classes=y_test.shape[1]\n",
    "print('THe number of classes in this dataset are:',num_classes)"
   ]
  },
  {
   "cell_type": "markdown",
   "id": "763c7e0f-bbec-46af-b866-c6e597552301",
   "metadata": {},
   "source": [
    "This code prepares the output labels for a classification problem by converting them into a one-hot encoded format, which is a common requirement for multi-class classification tasks in machine learning and deep learning.\n",
    "After executing this code, y_train and y_test will be in a format suitable for training a neural network, and num_classes will hold the number of distinct classes in the dataset."
   ]
  },
  {
   "cell_type": "code",
   "execution_count": 48,
   "id": "be54d5b8-2833-4d9f-b11a-8facb94f91c8",
   "metadata": {},
   "outputs": [],
   "source": [
    "from tensorflow.keras.utils import to_categorical\n",
    "from tensorflow.keras.models import Sequential\n",
    "from tensorflow.keras.layers import Conv2D, MaxPooling2D, Flatten, Dense, Dropout\n",
    "from tensorflow.keras.optimizers import Adam\n"
   ]
  },
  {
   "cell_type": "markdown",
   "id": "6cf28faa-d545-45db-8129-9245497e35a9",
   "metadata": {},
   "source": [
    "imports several important layers that are commonly used in convolutional neural networks (CNNs):\n",
    "Conv2D: This layer performs a 2D convolution operation on the input. It is primarily used to extract features from image data. For example, it can identify edges, shapes, and textures in images.\n",
    "MaxPooling2D: This layer downsamples the feature maps produced by the convolutional layer. It reduces the spatial dimensions (width and height) while retaining the most important features by taking the maximum value in each window.\n",
    "Flatten: This layer converts the 2D output from the convolutional layers into a 1D vector. This is necessary before passing the data to fully connected layers (Dense layers).\n",
    "Dense: This layer represents a fully connected layer where each neuron is connected to every neuron in the previous layer. It is typically used in the output layer for classification tasks.\n",
    "Dropout: This layer randomly sets a fraction of the input units to 0 during training, helping to prevent overfitting by ensuring that the model does not become overly dependent on any single feature."
   ]
  },
  {
   "cell_type": "code",
   "execution_count": 49,
   "id": "732f2786-0873-4a0e-8c96-1425f291704b",
   "metadata": {},
   "outputs": [],
   "source": [
    "from tensorflow.keras.models import Sequential\n",
    "from tensorflow.keras.layers import Conv1D, MaxPooling1D, Flatten, Dense, Dropout\n",
    "\n",
    "def cnn_model():\n",
    "    model = Sequential()\n",
    "    \n",
    "    # First convolutional layer\n",
    "    model.add(Conv1D(32, kernel_size=3, activation='relu', input_shape=(1024, 1)))  # Adjust input_shape as needed\n",
    "    model.add(MaxPooling1D(pool_size=2))\n",
    "    \n",
    "    # Second convolutional layer\n",
    "    model.add(Conv1D(64, kernel_size=3, activation='relu'))\n",
    "    model.add(MaxPooling1D(pool_size=2))\n",
    "    \n",
    "    # Third convolutional layer\n",
    "    model.add(Conv1D(128, kernel_size=3, activation='relu'))\n",
    "    model.add(MaxPooling1D(pool_size=2))\n",
    "    \n",
    "    # Flatten the output for the dense layers\n",
    "    model.add(Flatten())\n",
    "    \n",
    "    # Fully connected layer\n",
    "    model.add(Dense(128, activation='relu'))\n",
    "    model.add(Dropout(0.5))  # Dropout for regularization\n",
    "    \n",
    "    # Output layer (adjust units based on the number of classes)\n",
    "    model.add(Dense(10, activation='softmax'))  # Assuming 10 classes for classification\n",
    "    \n",
    "    return model"
   ]
  },
  {
   "cell_type": "markdown",
   "id": "3c26d93d-cddc-428e-a764-7b6c2771feee",
   "metadata": {},
   "source": [
    "Imports:\n",
    "\n",
    "Sequential: Builds a linear stack of layers.\n",
    "Conv1D: Applies 1D convolution to extract features.\n",
    "MaxPooling1D: Reduces dimensionality by taking the maximum value over a window.\n",
    "Flatten: Converts 2D output into a 1D array.\n",
    "Dense: Fully connected layer for classification.\n",
    "Dropout: Prevents overfitting by randomly setting a fraction of inputs to zero.\n",
    "Function Definition:\n",
    "\n",
    "cnn_model(): Defines a function that creates and returns a 1D CNN model.\n",
    "Model Structure:\n",
    "\n",
    "Convolutional Layers:\n",
    "Three Conv1D layers (32, 64, 128 filters) with ReLU activation.\n",
    "Followed by MaxPooling1D layers to downsample.\n",
    "Flattening: Converts output to a 1D array.\n",
    "Dense Layer: Fully connected layer with 128 neurons and ReLU.\n",
    "Dropout Layer: Drops 50% of inputs to reduce overfitting.\n",
    "Output Layer: 10 neurons with softmax activation for classification.\n",
    "Return: Returns the constructed CNN model."
   ]
  },
  {
   "cell_type": "code",
   "execution_count": 50,
   "id": "0e315dc6-0975-419b-91ed-7c3e8b5ad082",
   "metadata": {},
   "outputs": [],
   "source": [
    "model=cnn_model()"
   ]
  },
  {
   "cell_type": "markdown",
   "id": "768967a4-e28c-42f1-8c79-52be825d08f9",
   "metadata": {},
   "source": [
    "model = cnn_model() executes the cnn_model function, which creates and initializes a Convolutional Neural Network (CNN) model based on the structure defined in that function. Here's a brief explanation:\n",
    "\n",
    "model = cnn_model():\n",
    "Calls the cnn_model() function.\n",
    "Assigns the returned CNN model to the variable model."
   ]
  },
  {
   "cell_type": "code",
   "execution_count": 52,
   "id": "d35c5cd2-8205-461d-b75b-b3e305e9e062",
   "metadata": {},
   "outputs": [],
   "source": [
    "#compile model\n",
    "sgd = Adam(learning_rate=1e-3)\n",
    "# model.compile(loss='categorical_crossentropy',optimizer=sgd,metrics=['accu\n",
    "model.compile(optimizer=Adam(), loss='categorical_crossentropy', metrics=['accuracy'])"
   ]
  },
  {
   "cell_type": "markdown",
   "id": "007b8aae-28e5-49c1-b46e-6b32af3c8261",
   "metadata": {},
   "source": [
    "This code sets up the model for training by defining how the model will learn (via the Adam optimizer) and how its performance will be measured (using categorical crossentropy loss and accuracy)."
   ]
  },
  {
   "cell_type": "code",
   "execution_count": 53,
   "id": "d9bc7c68-3b8c-4bd3-9a3d-95830ac1fe01",
   "metadata": {},
   "outputs": [
    {
     "name": "stdout",
     "output_type": "stream",
     "text": [
      "Epoch 1/10\n",
      "\u001b[1m1313/1313\u001b[0m \u001b[32m━━━━━━━━━━━━━━━━━━━━\u001b[0m\u001b[37m\u001b[0m \u001b[1m474s\u001b[0m 355ms/step - accuracy: 0.3180 - loss: 1.9053 - val_accuracy: 0.6443 - val_loss: 1.1217\n",
      "Epoch 2/10\n",
      "\u001b[1m1313/1313\u001b[0m \u001b[32m━━━━━━━━━━━━━━━━━━━━\u001b[0m\u001b[37m\u001b[0m \u001b[1m615s\u001b[0m 441ms/step - accuracy: 0.5651 - loss: 1.2933 - val_accuracy: 0.6811 - val_loss: 0.9984\n",
      "Epoch 3/10\n",
      "\u001b[1m1313/1313\u001b[0m \u001b[32m━━━━━━━━━━━━━━━━━━━━\u001b[0m\u001b[37m\u001b[0m \u001b[1m923s\u001b[0m 665ms/step - accuracy: 0.5999 - loss: 1.1855 - val_accuracy: 0.6924 - val_loss: 0.9910\n",
      "Epoch 4/10\n",
      "\u001b[1m1313/1313\u001b[0m \u001b[32m━━━━━━━━━━━━━━━━━━━━\u001b[0m\u001b[37m\u001b[0m \u001b[1m581s\u001b[0m 403ms/step - accuracy: 0.6218 - loss: 1.1203 - val_accuracy: 0.7059 - val_loss: 0.9586\n",
      "Epoch 5/10\n",
      "\u001b[1m1313/1313\u001b[0m \u001b[32m━━━━━━━━━━━━━━━━━━━━\u001b[0m\u001b[37m\u001b[0m \u001b[1m1159s\u001b[0m 840ms/step - accuracy: 0.6560 - loss: 1.0066 - val_accuracy: 0.7146 - val_loss: 0.8835\n",
      "Epoch 8/10\n",
      "\u001b[1m1313/1313\u001b[0m \u001b[32m━━━━━━━━━━━━━━━━━━━━\u001b[0m\u001b[37m\u001b[0m \u001b[1m578s\u001b[0m 438ms/step - accuracy: 0.6653 - loss: 0.9698 - val_accuracy: 0.7188 - val_loss: 0.8677\n",
      "Epoch 9/10\n",
      "\u001b[1m1313/1313\u001b[0m \u001b[32m━━━━━━━━━━━━━━━━━━━━\u001b[0m\u001b[37m\u001b[0m \u001b[1m656s\u001b[0m 461ms/step - accuracy: 0.6680 - loss: 0.9594 - val_accuracy: 0.7248 - val_loss: 0.8580\n",
      "Epoch 10/10\n",
      "\u001b[1m1313/1313\u001b[0m \u001b[32m━━━━━━━━━━━━━━━━━━━━\u001b[0m\u001b[37m\u001b[0m \u001b[1m508s\u001b[0m 374ms/step - accuracy: 0.6825 - loss: 0.9189 - val_accuracy: 0.7256 - val_loss: 0.8507\n"
     ]
    }
   ],
   "source": [
    "# Fit the model\n",
    "training_history = model.fit(\n",
    "    X_train, \n",
    "    y_train, \n",
    "    validation_data=(X_test, y_test), \n",
    "    epochs=10,        # Set the number of epochs\n",
    "    batch_size=32,    # Set the batch size\n",
    "    verbose=1         # Set verbose to 1 for progress output (0 for silent, 2 for one line per epoch)\n",
    ")\n"
   ]
  },
  {
   "cell_type": "markdown",
   "id": "dd2a56fc-d3be-4d2a-b4a9-353203df8de2",
   "metadata": {},
   "source": [
    "The model was trained over 10 epochs, with the following key metrics for each epoch:\n",
    "\n",
    "Epoch\tTraining Accuracy\tTraining Loss\tValidation Accuracy\tValidation Loss\tDuration\n",
    "1\t31.80%\t1.9053\t64.43%\t1.1217\t474s\n",
    "2\t56.51%\t1.2933\t68.11%\t0.9984\t615s\n",
    "3\t59.99%\t1.1855\t69.24%\t0.9910\t923s\n",
    "4\t62.18%\t1.1203\t70.59%\t0.9586\t581s\n",
    "5\t65.60%\t1.0066\t71.46%\t0.8835\t1159s\n",
    "6\t-\t-\t-\t-\t-\n",
    "7\t-\t-\t-\t-\t-\n",
    "8\t66.53%\t0.9698\t71.88%\t0.8677\t578s\n",
    "9\t66.80%\t0.9594\t72.48%\t0.8580\t656s\n",
    "10\t68.25%\t0.9189\t72.56%\t0.8507\t508s\n",
    "Key Observations:\n",
    "Training Accuracy: Improved from 31.80% in the first epoch to 68.25% by the last epoch, indicating that the model is learning from the training data.\n",
    "Validation Accuracy: Increased from 64.43% to 72.56%, showing that the model's performance on unseen data is also improving.\n",
    "Training Loss: Decreased from 1.9053 to 0.9189, suggesting that the model is getting better at making predictions.\n",
    "Validation Loss: Similarly decreased from 1.1217 to 0.8507, indicating improved model generalization.\n"
   ]
  },
  {
   "cell_type": "code",
   "execution_count": 56,
   "id": "8651a1ae-1c48-490d-adcc-53e95232f192",
   "metadata": {},
   "outputs": [
    {
     "name": "stdout",
     "output_type": "stream",
     "text": [
      "Loss: 0.8507176637649536\n",
      "Accuracy: 0.7256110906600952\n"
     ]
    }
   ],
   "source": [
    "# Final evalution of the model\n",
    "scores=model.evaluate(X_test,y_test,verbose=0)\n",
    "print('Loss:',scores[0])\n",
    "print('Accuracy:',scores[1])"
   ]
  },
  {
   "cell_type": "markdown",
   "id": "b0cfb991-0b4c-489b-9a05-5a5fb2c2dbc1",
   "metadata": {},
   "source": [
    "Final Model Evaluation\n",
    "After training, the model was evaluated on the test dataset:\n",
    "\n",
    "Loss: 0.8507\n",
    "Accuracy: 72.56%"
   ]
  },
  {
   "cell_type": "code",
   "execution_count": 57,
   "id": "22b8935f-f061-4898-a701-876f0fa34c8b",
   "metadata": {},
   "outputs": [
    {
     "data": {
      "text/plain": [
       "Text(0.5, 1.0, 'Training and validation loss')"
      ]
     },
     "execution_count": 57,
     "metadata": {},
     "output_type": "execute_result"
    },
    {
     "data": {
      "image/png": "[encoded data removed]",
      "text/plain": [
       "<Figure size 640x480 with 1 Axes>"
      ]
     },
     "metadata": {},
     "output_type": "display_data"
    },
    {
     "data": {
      "image/png": "[encoded data removed]",
      "text/plain": [
       "<Figure size 640x480 with 1 Axes>"
      ]
     },
     "metadata": {},
     "output_type": "display_data"
    }
   ],
   "source": [
    "accuracy=training_history.history['accuracy']\n",
    "val_accuracy=training_history.history['val_accuracy']\n",
    "loss=training_history.history['loss']\n",
    "val_loss=training_history.history['val_loss']\n",
    "epochs=range(len(accuracy))\n",
    "plt.plot(epochs,accuracy,label='training accuracy')\n",
    "plt.plot(epochs,val_accuracy,label='validation accuracy')\n",
    "plt.title('Training and validation accuracy')\n",
    "plt.legend(loc='lower right')\n",
    "plt.figure()\n",
    "plt.plot(epochs,loss,label='training loss')\n",
    "plt.plot(epochs,val_loss,label='validation loss')\n",
    "plt.legend(loc='upper right')\n",
    "plt.title('Training and validation loss')"
   ]
  },
  {
   "cell_type": "code",
   "execution_count": null,
   "id": "45d43774-7ad2-4733-b817-93af9fb2faf1",
   "metadata": {},
   "outputs": [],
   "source": []
  }
 ],
 "metadata": {
  "kernelspec": {
   "display_name": "Python 3 (ipykernel)",
   "language": "python",
   "name": "python3"
  },
  "language_info": {
   "codemirror_mode": {
    "name": "ipython",
    "version": 3
   },
   "file_extension": ".py",
   "mimetype": "text/x-python",
   "name": "python",
   "nbconvert_exporter": "python",
   "pygments_lexer": "ipython3",
   "version": "3.10.11"
  }
 },
 "nbformat": 4,
 "nbformat_minor": 5
}
